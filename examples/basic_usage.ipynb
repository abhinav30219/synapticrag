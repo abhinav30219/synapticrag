{
 "cells": [
  {
   "cell_type": "markdown",
   "metadata": {},
   "source": [
    "# SynapticRAG Basic Usage\n",
    "\n",
    "This notebook demonstrates the basic usage of SynapticRAG, a hybrid Retrieval-Augmented Generation system that combines graph-based retrieval with memory-inspired knowledge discovery."
   ]
  },
  {
   "cell_type": "code",
   "execution_count": null,
   "metadata": {},
   "source": [
    "import os\n",
    "import sys\n",
    "from dotenv import load_dotenv\n",
    "\n",
    "# Add parent directory to path\n",
    "sys.path.append(os.path.abspath('..'))\n",
    "\n",
    "# Load environment variables\n",
    "load_dotenv()\n",
    "\n",
    "from synaptic.pipeline import SynapticPipeline\n",
    "from synaptic.config import SynapticConfig"
   ]
  },
  {
   "cell_type": "markdown",
   "metadata": {},
   "source": [
    "## Configuration\n",
    "\n",
    "First, let's create a configuration for our pipeline. We'll use the default settings but you can customize them based on your needs."
   ]
  },
  {
   "cell_type": "code",
   "execution_count": null,
   "metadata": {},
   "source": [
    "config = SynapticConfig(\n",
    "    working_dir='./workspace',\n",
    "    \n",
    "    # Memory settings\n",
    "    memory={\n",
    "        'model_name_or_path': 'anthropic/claude-3-sonnet-20240229',\n",
    "        'load_in_4bit': True\n",
    "    },\n",
    "    \n",
    "    # Graph settings\n",
    "    graph={\n",
    "        'chunk_token_size': 1200,\n",
    "        'gnn_hidden_channels': 256\n",
    "    },\n",
    "    \n",
    "    # Retriever settings\n",
    "    retriever={\n",
    "        'model_name_or_path': 'BAAI/bge-large-en-v1.5',\n",
    "        'hits': 3\n",
    "    }\n",
    ")\n",
    "\n",
    "# Initialize pipeline\n",
    "pipeline = SynapticPipeline(config=config)"
   ]
  },
  {
   "cell_type": "markdown",
   "metadata": {},
   "source": [
    "## Sample Documents\n",
    "\n",
    "Let's create some sample documents to work with."
   ]
  },
  {
   "cell_type": "code",
   "execution_count": null,
   "metadata": {},
   "source": [
    "documents = [\n",
    "    \"\"\"\n",
    "    Neural networks are a set of algorithms, modeled loosely after the human brain, \n",
    "    that are designed to recognize patterns. They interpret sensory data through a \n",
    "    kind of machine perception, labeling or clustering raw input. The patterns they \n",
    "    recognize are numerical, contained in vectors, into which all real-world data, \n",
    "    be it images, sound, text or time series, must be translated.\n",
    "    \"\"\",\n",
    "    \"\"\"\n",
    "    Graph Neural Networks (GNNs) are a class of deep learning methods designed to \n",
    "    perform inference on data described by graphs. GNNs are neural networks that can \n",
    "    be directly applied to graphs, and provide an easy way to do node-level, \n",
    "    edge-level, and graph-level prediction tasks.\n",
    "    \"\"\",\n",
    "    \"\"\"\n",
    "    PyTorch Geometric (PyG) is a library built upon PyTorch to easily write and \n",
    "    train Graph Neural Networks (GNNs) for a wide range of applications related to \n",
    "    structured data. It consists of various methods for deep learning on graphs and \n",
    "    other irregular structures.\n",
    "    \"\"\"\n",
    "]\n",
    "\n",
    "# Process documents\n",
    "stats = pipeline.process_documents(documents)\n",
    "print(\"Processing Statistics:\")\n",
    "print(f\"Number of documents: {stats.num_documents}\")\n",
    "print(f\"Number of entities: {stats.num_entities}\")\n",
    "print(f\"Number of relationships: {stats.num_relationships}\")"
   ]
  },
  {
   "cell_type": "markdown",
   "metadata": {},
   "source": [
    "## Simple Queries\n",
    "\n",
    "Let's try some simple queries to test the system."
   ]
  },
  {
   "cell_type": "code",
   "execution_count": null,
   "metadata": {},
   "source": [
    "# Direct question\n",
    "query = \"What are neural networks?\"\n",
    "result = pipeline.query(query)\n",
    "print(\"Query:\", query)\n",
    "print(\"\\nResponse:\", result.response)\n",
    "print(\"\\nSources:\", result.sources)"
   ]
  },
  {
   "cell_type": "markdown",
   "metadata": {},
   "source": [
    "## Complex Queries\n",
    "\n",
    "Now let's try some more complex queries that require combining information from multiple documents."
   ]
  },
  {
   "cell_type": "code",
   "execution_count": null,
   "metadata": {},
   "source": [
    "# Complex query requiring information synthesis\n",
    "query = \"How do Graph Neural Networks relate to traditional neural networks, and how can PyTorch Geometric help implement them?\"\n",
    "result = pipeline.query(query)\n",
    "print(\"Query:\", query)\n",
    "print(\"\\nResponse:\", result.response)\n",
    "print(\"\\nSources:\", result.sources)"
   ]
  },
  {
   "cell_type": "markdown",
   "metadata": {},
   "source": [
    "## Memory Analysis\n",
    "\n",
    "Let's examine how the system uses its memory to handle queries."
   ]
  },
  {
   "cell_type": "code",
   "execution_count": null,
   "metadata": {},
   "source": [
    "# Get memory clues for a query\n",
    "query = \"What tools are available for implementing graph neural networks?\"\n",
    "result = pipeline.query(query, return_sources=True)\n",
    "\n",
    "print(\"Query:\", query)\n",
    "print(\"\\nGenerated Clues:\")\n",
    "for clue in result.metadata['clues'].split('\\n'):\n",
    "    print(f\"- {clue}\")\n",
    "print(\"\\nResponse:\", result.response)"
   ]
  },
  {
   "cell_type": "markdown",
   "metadata": {},
   "source": [
    "## Graph Analysis\n",
    "\n",
    "Finally, let's visualize the knowledge graph constructed from our documents."
   ]
  },
  {
   "cell_type": "code",
   "execution_count": null,
   "metadata": {},
   "source": [
    "import networkx as nx\n",
    "import matplotlib.pyplot as plt\n",
    "\n",
    "# Get the NetworkX graph\n",
    "nx_graph = pipeline.rag.graph_builder.nx_graph\n",
    "\n",
    "# Create plot\n",
    "plt.figure(figsize=(12, 8))\n",
    "pos = nx.spring_layout(nx_graph)\n",
    "\n",
    "# Draw nodes\n",
    "nx.draw_networkx_nodes(nx_graph, pos, node_color='lightblue', \n",
    "                      node_size=2000, alpha=0.6)\n",
    "nx.draw_networkx_labels(nx_graph, pos)\n",
    "\n",
    "# Draw edges\n",
    "nx.draw_networkx_edges(nx_graph, pos, alpha=0.5)\n",
    "edge_labels = nx.get_edge_attributes(nx_graph, 'type')\n",
    "nx.draw_networkx_edge_labels(nx_graph, pos, edge_labels)\n",
    "\n",
    "plt.title(\"Knowledge Graph Visualization\")\n",
    "plt.axis('off')\n",
    "plt.show()"
   ]
  }
 ],
 "metadata": {
  "kernelspec": {
   "display_name": "Python 3",
   "language": "python",
   "name": "python3"
  },
  "language_info": {
   "codemirror_mode": {
    "name": "ipython",
    "version": 3
   },
   "file_extension": ".py",
   "mimetype": "text/x-python",
   "name": "python",
   "nbconvert_exporter": "python",
   "pygments_lexer": "ipython3",
   "version": "3.8.0"
  }
 },
 "nbformat": 4,
 "nbformat_minor": 4
}
